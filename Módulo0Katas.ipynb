{
 "cells": [
  {
   "cell_type": "code",
   "execution_count": 1,
   "metadata": {},
   "outputs": [
    {
     "name": "stdout",
     "output_type": "stream",
     "text": [
      "2022-02-07\n"
     ]
    }
   ],
   "source": [
    "# Importamos la biblioteca \n",
    "from datetime import date\n",
    "\n",
    "# Obtenemos la fecha de hoy\n",
    "date.today()\n",
    "\n",
    "# Mostramos la fecha en la consola\n",
    "print(date.today())"
   ]
  },
  {
   "cell_type": "code",
   "execution_count": 2,
   "metadata": {},
   "outputs": [
    {
     "name": "stdout",
     "output_type": "stream",
     "text": [
      "Today's date is: 2022-02-07\n"
     ]
    }
   ],
   "source": [
    "# Tu turno ejecuta el siguiente comando:\n",
    "print(\"Today's date is: \" + str(date.today()))"
   ]
  },
  {
   "cell_type": "code",
   "execution_count": 3,
   "metadata": {},
   "outputs": [
    {
     "name": "stdout",
     "output_type": "stream",
     "text": [
      "Bienvenido al programa de bienvenida\n",
      "Saludos: Luis\n"
     ]
    }
   ],
   "source": [
    "print(\"Bienvenido al programa de bienvenida\")\n",
    "nombre = input(\"Introduzca su nombre \")\n",
    "print(\"Saludos: \"+ nombre)"
   ]
  },
  {
   "cell_type": "code",
   "execution_count": 4,
   "metadata": {},
   "outputs": [
    {
     "name": "stdout",
     "output_type": "stream",
     "text": [
      "Calculadora\n",
      "12\n"
     ]
    }
   ],
   "source": [
    "print(\"Calculadora\")\n",
    "first_number = input(\"Primer número: \")\n",
    "second_number = input(\"Segundo número: \")\n",
    "print(first_number + second_number)"
   ]
  },
  {
   "cell_type": "code",
   "execution_count": 5,
   "metadata": {},
   "outputs": [
    {
     "name": "stdout",
     "output_type": "stream",
     "text": [
      "Calculadora\n",
      "3\n"
     ]
    }
   ],
   "source": [
    "print(\"Calculadora\")\n",
    "first_number = input(\"Primer número: \")\n",
    "second_number = input(\"Segundo número: \")\n",
    "print(int(first_number) + int(second_number))"
   ]
  }
 ],
 "metadata": {
  "interpreter": {
   "hash": "84b654c42ac53634d02cea1396ae736984d82b908157fb3ec1d1fde870b2f5e9"
  },
  "kernelspec": {
   "display_name": "Python 3.10.2 64-bit",
   "language": "python",
   "name": "python3"
  },
  "language_info": {
   "codemirror_mode": {
    "name": "ipython",
    "version": 3
   },
   "file_extension": ".py",
   "mimetype": "text/x-python",
   "name": "python",
   "nbconvert_exporter": "python",
   "pygments_lexer": "ipython3",
   "version": "3.10.2"
  },
  "orig_nbformat": 4
 },
 "nbformat": 4,
 "nbformat_minor": 2
}
